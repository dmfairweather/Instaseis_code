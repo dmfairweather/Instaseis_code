{
 "cells": [
  {
   "cell_type": "code",
   "execution_count": 1,
   "metadata": {},
   "outputs": [],
   "source": [
    "import pathlib\n",
    "import numpy as np\n",
    "import pandas as pd\n",
    "import matplotlib.pyplot as plt\n",
    "\n",
    "%matplotlib inline"
   ]
  },
  {
   "cell_type": "markdown",
   "metadata": {},
   "source": [
    "#### Import Syngine databases\n",
    "\n",
    "Instaseis must be available for this code to work"
   ]
  },
  {
   "cell_type": "code",
   "execution_count": 2,
   "metadata": {},
   "outputs": [
    {
     "ename": "NameError",
     "evalue": "name 'instaseis' is not defined",
     "output_type": "error",
     "traceback": [
      "\u001b[0;31m---------------------------------------------------------------------------\u001b[0m",
      "\u001b[0;31mNameError\u001b[0m                                 Traceback (most recent call last)",
      "\u001b[0;32m<ipython-input-2-499cdcef02f4>\u001b[0m in \u001b[0;36m<module>\u001b[0;34m\u001b[0m\n\u001b[0;32m----> 1\u001b[0;31m \u001b[0mdb\u001b[0m \u001b[0;34m=\u001b[0m \u001b[0minstaseis\u001b[0m\u001b[0;34m.\u001b[0m\u001b[0mopen_db\u001b[0m\u001b[0;34m(\u001b[0m\u001b[0;34m\"syngine://prem_a_10s\"\u001b[0m\u001b[0;34m)\u001b[0m\u001b[0;34m\u001b[0m\u001b[0;34m\u001b[0m\u001b[0m\n\u001b[0m",
      "\u001b[0;31mNameError\u001b[0m: name 'instaseis' is not defined"
     ]
    }
   ],
   "source": [
    "db = instaseis.open_db(\"syngine://prem_a_10s\")"
   ]
  },
  {
   "cell_type": "markdown",
   "metadata": {},
   "source": [
    "#### Output equally spaced station locations in array on constant latitude and eastwards\n",
    "\n",
    "Variables:\n",
    "\n",
    "`lat`: Latitude line in degrees (-90<`lat`<90 strictly)\n",
    "\n",
    "`lon1`: Starting longitude point in degrees (0<`lon1`<360)\n",
    "\n",
    "`array_length`: Length of the distance from `lat` and `lon1` in metres\n",
    "\n",
    "`stations`: Integer number of stations"
   ]
  },
  {
   "cell_type": "code",
   "execution_count": 3,
   "metadata": {},
   "outputs": [],
   "source": [
    "def array_setup(lat, lon1, array_length, stations):\n",
    "    lon2 = (2*(np.rad2deg(np.arcsin((np.sin((array_length/(2*6371000)))))/((np.cos(np.deg2rad(lat))))))) + lon1  # Find second longitude point\n",
    "    interval = (lon2-lon1)/stations   # Calculate equal interval distance between stations\n",
    "    \n",
    "    station_locations = []\n",
    "    for n in range(0,stations):\n",
    "        next_station = lon1 + n*interval\n",
    "        station_locations.append(next_station)\n",
    "    \n",
    "    return station_locations     # station_locations are points of longitude"
   ]
  },
  {
   "cell_type": "code",
   "execution_count": 4,
   "metadata": {},
   "outputs": [
    {
     "name": "stdout",
     "output_type": "stream",
     "text": [
      "[0.0, 0.0008993216059187305, 0.001798643211837461, 0.0026979648177561915, 0.003597286423674922, 0.004496608029593652, 0.005395929635512383, 0.006295251241431113, 0.007194572847349844, 0.008093894453268574]\n"
     ]
    }
   ],
   "source": [
    "array_test1 = array_setup(0,0,1000,10)\n",
    "\n",
    "print(array_test1)"
   ]
  },
  {
   "cell_type": "markdown",
   "metadata": {},
   "source": [
    "#### Source / receviers"
   ]
  },
  {
   "cell_type": "code",
   "execution_count": null,
   "metadata": {},
   "outputs": [],
   "source": [
    "#Receiver array setup\n",
    "\n",
    "receivers = []\n",
    "\n",
    "for station_lon in station_locations:\n",
    "    rec = instaseis.Receiver(latitude=lat, longitude=station_lon)\n",
    "    receivers.append(rec)"
   ]
  },
  {
   "cell_type": "code",
   "execution_count": null,
   "metadata": {},
   "outputs": [],
   "source": [
    "# Source setup\n",
    "\n",
    "source = instaseis.Source(latitude=27.77, longitude=85.37, depth_in_m=12000.0,\n",
    "    m_rr=8.29e+20, m_tt=-2.33e+20, m_pp=-5.96e+20,\n",
    "    m_rt=2.96e+20, m_rp=4.74e+20, m_tp=-3.73e+20)"
   ]
  },
  {
   "cell_type": "markdown",
   "metadata": {},
   "source": [
    "#### Calculate seismograms"
   ]
  },
  {
   "cell_type": "code",
   "execution_count": null,
   "metadata": {},
   "outputs": [],
   "source": [
    "st = db.get_seismograms(source=source, receiver=rec, components='ZNERT')\n",
    "print(st)\n",
    "st.plot();"
   ]
  }
 ],
 "metadata": {
  "kernelspec": {
   "display_name": "Python 3",
   "language": "python",
   "name": "python3"
  },
  "language_info": {
   "codemirror_mode": {
    "name": "ipython",
    "version": 3
   },
   "file_extension": ".py",
   "mimetype": "text/x-python",
   "name": "python",
   "nbconvert_exporter": "python",
   "pygments_lexer": "ipython3",
   "version": "3.6.8"
  }
 },
 "nbformat": 4,
 "nbformat_minor": 2
}
